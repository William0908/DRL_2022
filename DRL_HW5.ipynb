{
  "nbformat": 4,
  "nbformat_minor": 0,
  "metadata": {
    "colab": {
      "name": "DRL_HW5.ipynb",
      "private_outputs": true,
      "provenance": [],
      "collapsed_sections": [],
      "toc_visible": true,
      "include_colab_link": true
    },
    "kernelspec": {
      "name": "python3",
      "display_name": "Python 3"
    },
    "accelerator": "GPU",
    "gpuClass": "standard"
  },
  "cells": [
    {
      "cell_type": "markdown",
      "metadata": {
        "id": "view-in-github",
        "colab_type": "text"
      },
      "source": [
        "<a href=\"https://colab.research.google.com/github/William0908/DRL_2022/blob/main/DRL_HW5.ipynb\" target=\"_parent\"><img src=\"https://colab.research.google.com/assets/colab-badge.svg\" alt=\"Open In Colab\"/></a>"
      ]
    },
    {
      "cell_type": "markdown",
      "metadata": {
        "id": "SsRAs0r2LM4F"
      },
      "source": [
        "# **掛載雲端硬碟**"
      ]
    },
    {
      "cell_type": "code",
      "metadata": {
        "id": "_Palgjg3BtPF"
      },
      "source": [
        "from google.colab import drive\n",
        "drive.mount('/content/drive')"
      ],
      "execution_count": null,
      "outputs": []
    },
    {
      "cell_type": "markdown",
      "metadata": {
        "id": "FXrloB99LV00"
      },
      "source": [
        "# **安裝相關套件**"
      ]
    },
    {
      "cell_type": "code",
      "metadata": {
        "id": "8-AxnvAVyzQQ"
      },
      "source": [
        "#remove \" > /dev/null 2>&1\" to see what is going on under the hood\n",
        "!pip install gym pyvirtualdisplay > /dev/null 2>&1\n",
        "!apt-get install -y xvfb python-opengl ffmpeg > /dev/null 2>&1"
      ],
      "execution_count": null,
      "outputs": []
    },
    {
      "cell_type": "code",
      "metadata": {
        "id": "d2CE3TOS1ij3"
      },
      "source": [
        "!pip install stable_baselines3 gym box2d-py tensorflow-gpu"
      ],
      "execution_count": null,
      "outputs": []
    },
    {
      "cell_type": "markdown",
      "source": [
        "**Import Open AI GYM的2D box** **並選用Cart Pole進行遊戲訓練** "
      ],
      "metadata": {
        "id": "FRK2j2t2PW9w"
      }
    },
    {
      "cell_type": "markdown",
      "metadata": {
        "id": "APXSx7hg19TH"
      },
      "source": [
        " Imports and Helper functions\n"
      ]
    },
    {
      "cell_type": "code",
      "metadata": {
        "id": "pdb2JwZy4jGj"
      },
      "source": [
        "import gym\n",
        "from gym import logger as gymlogger\n",
        "from gym.wrappers import Monitor\n",
        "gymlogger.set_level(40) #error only\n",
        "import tensorflow as tf\n",
        "import numpy as np\n",
        "import random\n",
        "import matplotlib\n",
        "import matplotlib.pyplot as plt\n",
        "%matplotlib inline\n",
        "import math\n",
        "import glob\n",
        "import io\n",
        "import base64\n",
        "from IPython.display import HTML\n",
        "\n",
        "from IPython import display as ipythondisplay"
      ],
      "execution_count": null,
      "outputs": []
    },
    {
      "cell_type": "code",
      "metadata": {
        "id": "nQEtc28G4niA"
      },
      "source": [
        "from pyvirtualdisplay import Display\n",
        "display = Display(visible=0, size=(1400, 900))\n",
        "display.start()"
      ],
      "execution_count": null,
      "outputs": []
    },
    {
      "cell_type": "code",
      "metadata": {
        "id": "3Vg5Iing2oXX"
      },
      "source": [
        "from stable_baselines3 import PPO\n",
        "from stable_baselines3.common.vec_env import DummyVecEnv\n",
        "from stable_baselines3.common.evaluation import evaluate_policy"
      ],
      "execution_count": null,
      "outputs": []
    },
    {
      "cell_type": "code",
      "metadata": {
        "id": "G9UWeToN4r7D"
      },
      "source": [
        "\"\"\"\n",
        "Utility functions to enable video recording of gym environment and displaying it\n",
        "To enable video, just do \"env = wrap_env(env)\"\"\n",
        "\"\"\"\n",
        "game = \"CartPole-v1\" \n",
        "def show_video(): # 將video在網頁上展示\n",
        "  mp4list = glob.glob('video/*.mp4')\n",
        "  if len(mp4list) > 0:\n",
        "    mp4 = mp4list[0]\n",
        "    video = io.open(mp4, 'r+b').read()\n",
        "    encoded = base64.b64encode(video)\n",
        "    ipythondisplay.display(HTML(data='''<video alt=\"test\" autoplay \n",
        "                loop controls style=\"height: 400px;\">\n",
        "                <source src=\"data:video/mp4;base64,{0}\" type=\"video/mp4\" />\n",
        "             </video>'''.format(encoded.decode('ascii'))))\n",
        "  else: \n",
        "    print(\"Could not find video\")\n",
        "    \n",
        "\n",
        "def wrap_env(env):\n",
        "  env = Monitor(env, './video', force=True) # 以monitor函數監控訓練結果\n",
        "  return env"
      ],
      "execution_count": null,
      "outputs": []
    },
    {
      "cell_type": "markdown",
      "metadata": {
        "id": "W3BGbWOu179M"
      },
      "source": [
        "# **Cart Pole**!"
      ]
    },
    {
      "cell_type": "code",
      "metadata": {
        "id": "dGEFMfDOzLen"
      },
      "source": [
        "#env = wrap_env(gym.make(\"MsPacman-v0\"))\n",
        "env = wrap_env(gym.make(game))"
      ],
      "execution_count": null,
      "outputs": []
    },
    {
      "cell_type": "code",
      "metadata": {
        "id": "7BmIlXhe9Q89"
      },
      "source": [
        "#check out the pacman action space!\n",
        "print(env.action_space)"
      ],
      "execution_count": null,
      "outputs": []
    },
    {
      "cell_type": "markdown",
      "metadata": {
        "id": "WbFd2iNMLdMk"
      },
      "source": [
        "### **測試環境**"
      ]
    },
    {
      "cell_type": "code",
      "metadata": {
        "id": "8nj5sjsk15IT"
      },
      "source": [
        "observation = env.reset() # 以隨機策略測試環境,並將reward印出來\n",
        "reward = 0\n",
        "while True:\n",
        "  \n",
        "    env.render()\n",
        "    \n",
        "    #your agent goes here\n",
        "    action = env.action_space.sample() \n",
        "         \n",
        "    observation, rewards, done, info = env.step(action) \n",
        "    reward += rewards\n",
        "        \n",
        "    if done: \n",
        "      break;\n",
        "\n",
        "print(reward)  \n",
        "env.close()\n",
        "show_video()"
      ],
      "execution_count": null,
      "outputs": []
    },
    {
      "cell_type": "markdown",
      "metadata": {
        "id": "pbSmNa-1LqSI"
      },
      "source": [
        "# **訓練**"
      ]
    },
    {
      "cell_type": "markdown",
      "metadata": {
        "id": "gQCpZq_xLqPq"
      },
      "source": [
        "以PPO做為環境model進行訓練"
      ]
    },
    {
      "cell_type": "code",
      "metadata": {
        "id": "KqNGAuQt3WYm"
      },
      "source": [
        "env = wrap_env(gym.make(game)) \n",
        "env = DummyVecEnv([lambda: env])\n",
        "model = PPO('MlpPolicy', env, verbose = 1)"
      ],
      "execution_count": null,
      "outputs": []
    },
    {
      "cell_type": "code",
      "metadata": {
        "id": "XTEwok9O3WZ_"
      },
      "source": [
        "model.learn(total_timesteps=50000) # 設定max_timesteps為50000"
      ],
      "execution_count": null,
      "outputs": []
    },
    {
      "cell_type": "code",
      "metadata": {
        "id": "1Kj6SNiC3Wfa"
      },
      "source": [
        "#evaluate_policy(model, env, n_eval_episodes=10, render=True)\n",
        "#env.close()\n",
        "env.close()"
      ],
      "execution_count": null,
      "outputs": []
    },
    {
      "cell_type": "markdown",
      "metadata": {
        "id": "aiRXG3yXLuJZ"
      },
      "source": [
        "# **儲存模型**"
      ]
    },
    {
      "cell_type": "code",
      "metadata": {
        "id": "n2XWxi7z3WpV"
      },
      "source": [
        "model.save(\"/content/drive/MyDrive/deep reinforcement learning/colab/PPO_model\") # 將模型存儲於對應雲端硬碟路徑"
      ],
      "execution_count": null,
      "outputs": []
    },
    {
      "cell_type": "code",
      "metadata": {
        "id": "1WcnVpNP4ELc"
      },
      "source": [
        "del model"
      ],
      "execution_count": null,
      "outputs": []
    },
    {
      "cell_type": "markdown",
      "metadata": {
        "id": "SiUN2t49FJP0"
      },
      "source": [
        "# **執行結果**"
      ]
    },
    {
      "cell_type": "code",
      "metadata": {
        "id": "L71gysaL4EIY"
      },
      "source": [
        "model = PPO.load(\"/content/drive/MyDrive/deep reinforcement learning/colab/PPO_model\", env=env) #需更改雲端硬碟路徑"
      ],
      "execution_count": null,
      "outputs": []
    },
    {
      "cell_type": "code",
      "metadata": {
        "id": "BqxRsf3M4Knh"
      },
      "source": [
        "#env.close()\n",
        "env = wrap_env(gym.make(game))\n",
        "obs = env.reset()\n",
        "done = False\n",
        "reward = 0\n",
        "while not done: # 測試訓練後的結果\n",
        "    action, _states = model.predict(obs.copy())\n",
        "    obs, rewards, done, info = env.step(action)\n",
        "    reward+=rewards\n",
        "    env.render()\n",
        "    \n",
        "    #print(info)\n",
        "print(reward)\n",
        "\n",
        "env.close()\n"
      ],
      "execution_count": null,
      "outputs": []
    },
    {
      "cell_type": "code",
      "metadata": {
        "id": "-oqsxTVY4D6h"
      },
      "source": [
        "show_video()"
      ],
      "execution_count": null,
      "outputs": []
    },
    {
      "cell_type": "markdown",
      "source": [
        "# 訓練前的reward: 11\n",
        "\n",
        "# 以max_timesteps訓練後的reward: 500\n",
        "\n",
        "# (Baseline需大於475)"
      ],
      "metadata": {
        "id": "iuzbB4h_hicd"
      }
    },
    {
      "cell_type": "markdown",
      "source": [
        "# Action Space:\n",
        "\n",
        "![1.png](data:image/png;base64,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)"
      ],
      "metadata": {
        "id": "owd_-jk1iqUH"
      }
    },
    {
      "cell_type": "markdown",
      "source": [
        "# Rewards\n",
        "\n",
        "Since the goal is to keep the pole upright for as long as possible, a reward of +1 for every step taken, including the termination step, is allotted. The threshold for rewards is **475** for v1."
      ],
      "metadata": {
        "id": "JYFTi7nzi8Ki"
      }
    },
    {
      "cell_type": "markdown",
      "source": [
        "#結果比較:\n",
        "![1.png](data:image/png;base64,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)\n",
        "![2.png](data:image/png;base64,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)"
      ],
      "metadata": {
        "id": "_B_ASHNYdV-W"
      }
    }
  ]
}